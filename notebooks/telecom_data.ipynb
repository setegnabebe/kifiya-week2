{
 "cells": [
  {
   "cell_type": "code",
   "execution_count": null,
   "metadata": {},
   "outputs": [],
   "source": [
    "import psycopg2\n",
    "import pandas as pd\n",
    "\n",
    "# Establish a connection to the PostgreSQL database\n",
    "conn = psycopg2.connect(\n",
    "    dbname=\"your_db_name\", \n",
    "    user=\"your_user\", \n",
    "    password=\"your_password\", \n",
    "    host=\"your_host\", \n",
    "    port=\"your_port\"\n",
    ")\n",
    "\n",
    "# Create a cursor object to execute queries\n",
    "cursor = conn.cursor()\n",
    "\n",
    "# Test the connection by listing all available tables in the public schema\n",
    "query = \"\"\"\n",
    "SELECT table_name \n",
    "FROM information_schema.tables \n",
    "WHERE table_schema='public';\n",
    "\"\"\"\n",
    "tables = pd.read_sql_query(query, conn)\n",
    "tables\n"
   ]
  }
 ],
 "metadata": {
  "kernelspec": {
   "display_name": "Python 3",
   "language": "python",
   "name": "python3"
  },
  "language_info": {
   "codemirror_mode": {
    "name": "ipython",
    "version": 3
   },
   "file_extension": ".py",
   "mimetype": "text/x-python",
   "name": "python",
   "nbconvert_exporter": "python",
   "pygments_lexer": "ipython3",
   "version": "3.11.9"
  }
 },
 "nbformat": 4,
 "nbformat_minor": 2
}
